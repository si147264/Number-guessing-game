{
 "cells": [
  {
   "cell_type": "code",
   "execution_count": null,
   "id": "aff18b4a-7bac-439f-99d0-62a21a84116a",
   "metadata": {},
   "outputs": [],
   "source": [
    "import random\n",
    "\n",
    "number=random.randint(1,10)\n",
    "print(f\"{number} is chosen by computer\")\n",
    "\n",
    "\n",
    "forecast=None\n",
    "while number!=forecast:\n",
    "    forecast=int(input(\"Opt for a no\"))\n",
    "    \n",
    "    if forecast>number:\n",
    "        print(\"Please choose a lesser forecast\")\n",
    "    \n",
    "    elif forecast<number:\n",
    "        print(\"Please choose a greater forecast\")\n",
    "\n",
    "    else:\n",
    "        print(\"You are right\")\n"
   ]
  }
 ],
 "metadata": {
  "kernelspec": {
   "display_name": "Python 3 (ipykernel)",
   "language": "python",
   "name": "python3"
  },
  "language_info": {
   "codemirror_mode": {
    "name": "ipython",
    "version": 3
   },
   "file_extension": ".py",
   "mimetype": "text/x-python",
   "name": "python",
   "nbconvert_exporter": "python",
   "pygments_lexer": "ipython3",
   "version": "3.12.4"
  }
 },
 "nbformat": 4,
 "nbformat_minor": 5
}
